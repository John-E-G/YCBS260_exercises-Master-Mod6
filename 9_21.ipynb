{
 "cells": [
  {
   "cell_type": "code",
   "execution_count": 1,
   "id": "2491a292-6c27-4003-8bc4-3debb5fe3e24",
   "metadata": {},
   "outputs": [],
   "source": [
    "import pandas as pd"
   ]
  },
  {
   "cell_type": "code",
   "execution_count": 2,
   "id": "114bcb46-17e8-42d7-b6ab-689103c3c6dd",
   "metadata": {},
   "outputs": [],
   "source": [
    "import statsmodels.api as sm"
   ]
  },
  {
   "cell_type": "code",
   "execution_count": 3,
   "id": "e137632e-a8e5-4e49-bcc2-e9e9d1dd882f",
   "metadata": {},
   "outputs": [],
   "source": [
    "import numpy as np"
   ]
  },
  {
   "cell_type": "code",
   "execution_count": 4,
   "id": "2fda3d33-7e06-46b7-a85e-b8e8915e4d91",
   "metadata": {},
   "outputs": [],
   "source": [
    "import matplotlib.pyplot as plt"
   ]
  },
  {
   "cell_type": "code",
   "execution_count": 5,
   "id": "b12a502e-2036-45e4-a20b-87643aa086b9",
   "metadata": {},
   "outputs": [],
   "source": [
    "from statsmodels.graphics.correlation import plot_corr"
   ]
  },
  {
   "cell_type": "code",
   "execution_count": 6,
   "id": "0bf211fe-af8a-4736-871a-def503cae9a2",
   "metadata": {},
   "outputs": [],
   "source": [
    "df = pd.DataFrame(\n",
    "    {'units': [400,450,550,600,700,750],\n",
    "     'cost': [4000,5000,5400,5900,6400,7000]})"
   ]
  },
  {
   "cell_type": "code",
   "execution_count": 7,
   "id": "bd0acabc-af39-40f5-9a4f-d17bd1a4d372",
   "metadata": {},
   "outputs": [],
   "source": [
    "y=df['cost']"
   ]
  },
  {
   "cell_type": "code",
   "execution_count": 8,
   "id": "eb971f60-26a1-4a14-abc8-9a210f256d00",
   "metadata": {},
   "outputs": [],
   "source": [
    "x=df['units']"
   ]
  },
  {
   "cell_type": "code",
   "execution_count": 9,
   "id": "7159fcc5-5611-4667-b6f2-6e0300deb491",
   "metadata": {},
   "outputs": [],
   "source": [
    "x = sm.add_constant(x)"
   ]
  },
  {
   "cell_type": "code",
   "execution_count": 10,
   "id": "f939d246-9e01-43aa-af4b-6add27d5eb18",
   "metadata": {},
   "outputs": [],
   "source": [
    "model = sm.OLS(y, x).fit()"
   ]
  },
  {
   "cell_type": "code",
   "execution_count": 11,
   "id": "e15ce4e9-6e9d-4d35-830a-7de2fb25f6bd",
   "metadata": {},
   "outputs": [],
   "source": [
    "import numpy as np"
   ]
  },
  {
   "cell_type": "code",
   "execution_count": 12,
   "id": "ba75c752-7c2b-4f6d-81e6-ddda3ea9004c",
   "metadata": {},
   "outputs": [],
   "source": [
    "sse = np.sum((model.fittedvalues - df.cost)**2)"
   ]
  },
  {
   "cell_type": "code",
   "execution_count": 13,
   "id": "a978a246-384b-4cfc-8270-5742074a5608",
   "metadata": {},
   "outputs": [
    {
     "data": {
      "text/plain": [
       "np.float64(233333.33333333314)"
      ]
     },
     "execution_count": 13,
     "metadata": {},
     "output_type": "execute_result"
    }
   ],
   "source": [
    "sse"
   ]
  },
  {
   "cell_type": "code",
   "execution_count": 14,
   "id": "ba9c2b6e-fb6b-4f5d-be02-08b7dd6c7536",
   "metadata": {},
   "outputs": [],
   "source": [
    "ssr = np.sum((model.fittedvalues - df.cost.mean())**2)"
   ]
  },
  {
   "cell_type": "code",
   "execution_count": 15,
   "id": "c0c629cb-c75f-40ff-b7d7-6223b34d026c",
   "metadata": {},
   "outputs": [
    {
     "data": {
      "text/plain": [
       "np.float64(5414999.999999996)"
      ]
     },
     "execution_count": 15,
     "metadata": {},
     "output_type": "execute_result"
    }
   ],
   "source": [
    "ssr"
   ]
  },
  {
   "cell_type": "code",
   "execution_count": 16,
   "id": "e278d782-0af8-41a8-bf34-28f44f2b1ccf",
   "metadata": {},
   "outputs": [],
   "source": [
    "sst = ssr + sse"
   ]
  },
  {
   "cell_type": "code",
   "execution_count": 17,
   "id": "1778ef4a-a519-42b7-b7bf-76f0d3de6623",
   "metadata": {},
   "outputs": [
    {
     "data": {
      "text/plain": [
       "np.float64(5648333.333333329)"
      ]
     },
     "execution_count": 17,
     "metadata": {},
     "output_type": "execute_result"
    }
   ],
   "source": [
    "sst"
   ]
  },
  {
   "cell_type": "code",
   "execution_count": 18,
   "id": "44a8ea3b-6d3a-4e27-be31-2dc7fbc823a4",
   "metadata": {},
   "outputs": [],
   "source": [
    "result = sm.OLS(y, x).fit()"
   ]
  },
  {
   "cell_type": "markdown",
   "id": "7f6ad21c-c8e5-48ae-9eb8-d38e37e61fab",
   "metadata": {},
   "source": [
    "The regression equation (Variable per-cost unit = $7.60)"
   ]
  },
  {
   "cell_type": "code",
   "execution_count": 19,
   "id": "fec018f9-a1f5-4104-9f6f-7d28ff390117",
   "metadata": {},
   "outputs": [
    {
     "data": {
      "text/plain": [
       "const    1246.666667\n",
       "units       7.600000\n",
       "dtype: float64"
      ]
     },
     "execution_count": 19,
     "metadata": {},
     "output_type": "execute_result"
    }
   ],
   "source": [
    "result.params"
   ]
  },
  {
   "cell_type": "markdown",
   "id": "aeb46ed6-b59d-4731-9e37-9e5e281b6728",
   "metadata": {},
   "source": [
    "r^2"
   ]
  },
  {
   "cell_type": "code",
   "execution_count": 20,
   "id": "f1b1ff25-9001-47db-9e2e-4684ecd521da",
   "metadata": {},
   "outputs": [
    {
     "data": {
      "text/plain": [
       "np.float64(0.9586898790203601)"
      ]
     },
     "execution_count": 20,
     "metadata": {},
     "output_type": "execute_result"
    }
   ],
   "source": [
    "result.rsquared"
   ]
  },
  {
   "cell_type": "code",
   "execution_count": 21,
   "id": "2d0716ae-5ed0-49c6-9886-adb0b36888a6",
   "metadata": {},
   "outputs": [
    {
     "data": {
      "text/plain": [
       "np.float64(0.95868987902036)"
      ]
     },
     "execution_count": 21,
     "metadata": {},
     "output_type": "execute_result"
    }
   ],
   "source": [
    "ssr / sst"
   ]
  },
  {
   "cell_type": "markdown",
   "id": "98bbf398-ac63-457b-96b9-7d9b0a6157a6",
   "metadata": {},
   "source": [
    "For 500 Units"
   ]
  },
  {
   "cell_type": "code",
   "execution_count": 22,
   "id": "c6af2960-713c-4a52-9b85-b55031904e5b",
   "metadata": {},
   "outputs": [
    {
     "data": {
      "text/plain": [
       "'$5046.67'"
      ]
     },
     "execution_count": 22,
     "metadata": {},
     "output_type": "execute_result"
    }
   ],
   "source": [
    "f\"${result.params.const + result.params.units * 500:.2f}\""
   ]
  },
  {
   "cell_type": "code",
   "execution_count": null,
   "id": "a75ea833-8fb8-40e5-b9ab-32d724111485",
   "metadata": {},
   "outputs": [],
   "source": []
  }
 ],
 "metadata": {
  "kernelspec": {
   "display_name": "Python 3 (ipykernel)",
   "language": "python",
   "name": "python3"
  },
  "language_info": {
   "codemirror_mode": {
    "name": "ipython",
    "version": 3
   },
   "file_extension": ".py",
   "mimetype": "text/x-python",
   "name": "python",
   "nbconvert_exporter": "python",
   "pygments_lexer": "ipython3",
   "version": "3.11.2"
  }
 },
 "nbformat": 4,
 "nbformat_minor": 5
}
